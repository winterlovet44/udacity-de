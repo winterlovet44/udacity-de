{
 "cells": [
  {
   "cell_type": "code",
   "execution_count": 29,
   "id": "fb16ffe0-bc8b-4f04-b1f4-af0f49b5dfff",
   "metadata": {
    "execution": {
     "iopub.execute_input": "2022-08-10T08:34:26.513860Z",
     "iopub.status.busy": "2022-08-10T08:34:26.513092Z",
     "iopub.status.idle": "2022-08-10T08:34:26.785936Z",
     "shell.execute_reply": "2022-08-10T08:34:26.785046Z",
     "shell.execute_reply.started": "2022-08-10T08:34:26.513825Z"
    },
    "tags": []
   },
   "outputs": [
    {
     "data": {
      "application/vnd.jupyter.widget-view+json": {
       "model_id": "92a9ca98b6a44c2cad79aa9e5947bdf1",
       "version_major": 2,
       "version_minor": 0
      },
      "text/plain": [
       "VBox()"
      ]
     },
     "metadata": {},
     "output_type": "display_data"
    },
    {
     "data": {
      "application/vnd.jupyter.widget-view+json": {
       "model_id": "",
       "version_major": 2,
       "version_minor": 0
      },
      "text/plain": [
       "FloatProgress(value=0.0, bar_style='info', description='Progress:', layout=Layout(height='25px', width='50%'),…"
      ]
     },
     "metadata": {},
     "output_type": "display_data"
    }
   ],
   "source": [
    "from pyspark.sql import SparkSession\n",
    "import os\n",
    "from pyspark.sql import functions as F\n",
    "# import configparser"
   ]
  },
  {
   "cell_type": "code",
   "execution_count": null,
   "id": "618dd0a3-ed77-4699-ab57-617055a1d49a",
   "metadata": {},
   "outputs": [],
   "source": [
    "# song_s3_bucket = "
   ]
  },
  {
   "cell_type": "markdown",
   "id": "0913595d-94f3-43e5-9f09-224f942ba14b",
   "metadata": {},
   "source": [
    "### Build Spark Session"
   ]
  },
  {
   "cell_type": "code",
   "execution_count": 2,
   "id": "48de4a5f-b08d-4ed8-9419-90ae642a3b61",
   "metadata": {
    "execution": {
     "iopub.execute_input": "2022-08-10T08:07:48.231762Z",
     "iopub.status.busy": "2022-08-10T08:07:48.229425Z",
     "iopub.status.idle": "2022-08-10T08:07:49.878324Z",
     "shell.execute_reply": "2022-08-10T08:07:49.877392Z",
     "shell.execute_reply.started": "2022-08-10T08:07:48.231726Z"
    },
    "tags": []
   },
   "outputs": [
    {
     "data": {
      "application/vnd.jupyter.widget-view+json": {
       "model_id": "c1e3063a7a4d4063b657f9c34315fa1b",
       "version_major": 2,
       "version_minor": 0
      },
      "text/plain": [
       "VBox()"
      ]
     },
     "metadata": {},
     "output_type": "display_data"
    },
    {
     "data": {
      "application/vnd.jupyter.widget-view+json": {
       "model_id": "",
       "version_major": 2,
       "version_minor": 0
      },
      "text/plain": [
       "FloatProgress(value=0.0, bar_style='info', description='Progress:', layout=Layout(height='25px', width='50%'),…"
      ]
     },
     "metadata": {},
     "output_type": "display_data"
    }
   ],
   "source": [
    "spark = SparkSession.builder\\\n",
    "                     .config(\"spark.jars.packages\",\"org.apache.hadoop:hadoop-aws:2.7.0\")\\\n",
    "                     .getOrCreate()"
   ]
  },
  {
   "cell_type": "code",
   "execution_count": 23,
   "id": "99644051-155c-496b-8ab5-102534f508ea",
   "metadata": {
    "execution": {
     "iopub.execute_input": "2022-08-10T08:31:24.790949Z",
     "iopub.status.busy": "2022-08-10T08:31:24.790147Z",
     "iopub.status.idle": "2022-08-10T08:31:25.084027Z",
     "shell.execute_reply": "2022-08-10T08:31:25.083065Z",
     "shell.execute_reply.started": "2022-08-10T08:31:24.790913Z"
    }
   },
   "outputs": [
    {
     "data": {
      "application/vnd.jupyter.widget-view+json": {
       "model_id": "e3d4db16b2fe462b9f65c35054bf084f",
       "version_major": 2,
       "version_minor": 0
      },
      "text/plain": [
       "VBox()"
      ]
     },
     "metadata": {},
     "output_type": "display_data"
    },
    {
     "data": {
      "application/vnd.jupyter.widget-view+json": {
       "model_id": "",
       "version_major": 2,
       "version_minor": 0
      },
      "text/plain": [
       "FloatProgress(value=0.0, bar_style='info', description='Progress:', layout=Layout(height='25px', width='50%'),…"
      ]
     },
     "metadata": {},
     "output_type": "display_data"
    }
   ],
   "source": [
    "s3_bucket = 's3://test1dsa/'"
   ]
  },
  {
   "cell_type": "markdown",
   "id": "eb19fa66-8ba5-4646-8bc3-f7524ba96736",
   "metadata": {},
   "source": [
    "### Song data"
   ]
  },
  {
   "cell_type": "code",
   "execution_count": 3,
   "id": "9f73374b-b4ab-47c2-b174-eb9e42460c94",
   "metadata": {
    "execution": {
     "iopub.execute_input": "2022-08-10T08:07:49.883438Z",
     "iopub.status.busy": "2022-08-10T08:07:49.881025Z",
     "iopub.status.idle": "2022-08-10T08:08:54.427514Z",
     "shell.execute_reply": "2022-08-10T08:08:54.426611Z",
     "shell.execute_reply.started": "2022-08-10T08:07:49.883402Z"
    },
    "tags": []
   },
   "outputs": [
    {
     "data": {
      "application/vnd.jupyter.widget-view+json": {
       "model_id": "e6ecbb27da994822b99a1b9b96c429e9",
       "version_major": 2,
       "version_minor": 0
      },
      "text/plain": [
       "VBox()"
      ]
     },
     "metadata": {},
     "output_type": "display_data"
    },
    {
     "data": {
      "application/vnd.jupyter.widget-view+json": {
       "model_id": "",
       "version_major": 2,
       "version_minor": 0
      },
      "text/plain": [
       "FloatProgress(value=0.0, bar_style='info', description='Progress:', layout=Layout(height='25px', width='50%'),…"
      ]
     },
     "metadata": {},
     "output_type": "display_data"
    }
   ],
   "source": [
    "# Just load one file\n",
    "song_df = spark.read.json(\"s3://udacity-dend/song_data/A/B/*\")"
   ]
  },
  {
   "cell_type": "code",
   "execution_count": 5,
   "id": "3a92aab6-5c39-4c73-b156-517ec59ea569",
   "metadata": {
    "execution": {
     "iopub.execute_input": "2022-08-10T08:09:07.346606Z",
     "iopub.status.busy": "2022-08-10T08:09:07.344783Z",
     "iopub.status.idle": "2022-08-10T08:09:31.305232Z",
     "shell.execute_reply": "2022-08-10T08:09:31.304236Z",
     "shell.execute_reply.started": "2022-08-10T08:09:07.346569Z"
    },
    "tags": []
   },
   "outputs": [
    {
     "data": {
      "application/vnd.jupyter.widget-view+json": {
       "model_id": "36e23898738f4685b30ba8cab4f2d0e5",
       "version_major": 2,
       "version_minor": 0
      },
      "text/plain": [
       "VBox()"
      ]
     },
     "metadata": {},
     "output_type": "display_data"
    },
    {
     "data": {
      "application/vnd.jupyter.widget-view+json": {
       "model_id": "",
       "version_major": 2,
       "version_minor": 0
      },
      "text/plain": [
       "FloatProgress(value=0.0, bar_style='info', description='Progress:', layout=Layout(height='25px', width='50%'),…"
      ]
     },
     "metadata": {},
     "output_type": "display_data"
    },
    {
     "name": "stdout",
     "output_type": "stream",
     "text": [
      "588"
     ]
    }
   ],
   "source": [
    "# 588 song in our dataframe\n",
    "song_df.count()"
   ]
  },
  {
   "cell_type": "markdown",
   "id": "97d41ba2-2149-4a4b-a2a9-f185f4f0423e",
   "metadata": {},
   "source": [
    "### Save songs table to S3"
   ]
  },
  {
   "cell_type": "code",
   "execution_count": 7,
   "id": "0b03256e-5677-40cf-9f47-f1e012c05f22",
   "metadata": {
    "execution": {
     "iopub.execute_input": "2022-08-10T08:11:43.671033Z",
     "iopub.status.busy": "2022-08-10T08:11:43.670268Z",
     "iopub.status.idle": "2022-08-10T08:11:43.989503Z",
     "shell.execute_reply": "2022-08-10T08:11:43.988588Z",
     "shell.execute_reply.started": "2022-08-10T08:11:43.670998Z"
    },
    "tags": []
   },
   "outputs": [
    {
     "data": {
      "application/vnd.jupyter.widget-view+json": {
       "model_id": "5fc0d1aa9e6d4c87ba94680fa4933446",
       "version_major": 2,
       "version_minor": 0
      },
      "text/plain": [
       "VBox()"
      ]
     },
     "metadata": {},
     "output_type": "display_data"
    },
    {
     "data": {
      "application/vnd.jupyter.widget-view+json": {
       "model_id": "",
       "version_major": 2,
       "version_minor": 0
      },
      "text/plain": [
       "FloatProgress(value=0.0, bar_style='info', description='Progress:', layout=Layout(height='25px', width='50%'),…"
      ]
     },
     "metadata": {},
     "output_type": "display_data"
    }
   ],
   "source": [
    "songs = song_df.select(['song_id', 'title', 'artist_id', 'year', 'duration']).distinct()"
   ]
  },
  {
   "cell_type": "code",
   "execution_count": 17,
   "id": "340dd6d3-cb83-41fb-bb42-4dbde518b2a0",
   "metadata": {
    "execution": {
     "iopub.execute_input": "2022-08-10T08:18:31.564632Z",
     "iopub.status.busy": "2022-08-10T08:18:31.560779Z",
     "iopub.status.idle": "2022-08-10T08:19:46.310877Z",
     "shell.execute_reply": "2022-08-10T08:19:46.309613Z",
     "shell.execute_reply.started": "2022-08-10T08:18:31.564566Z"
    },
    "tags": []
   },
   "outputs": [
    {
     "data": {
      "application/vnd.jupyter.widget-view+json": {
       "model_id": "d84fb2c997de4d09b5957110b9fdc657",
       "version_major": 2,
       "version_minor": 0
      },
      "text/plain": [
       "VBox()"
      ]
     },
     "metadata": {},
     "output_type": "display_data"
    },
    {
     "data": {
      "application/vnd.jupyter.widget-view+json": {
       "model_id": "",
       "version_major": 2,
       "version_minor": 0
      },
      "text/plain": [
       "FloatProgress(value=0.0, bar_style='info', description='Progress:', layout=Layout(height='25px', width='50%'),…"
      ]
     },
     "metadata": {},
     "output_type": "display_data"
    }
   ],
   "source": [
    "songs.write.mode(\"overwrite\").partitionBy('year', 'artist_id').parquet(path='s3://test1dsa/songs/')"
   ]
  },
  {
   "cell_type": "markdown",
   "id": "0ba3c332-eecd-42c1-adff-080821ba1260",
   "metadata": {
    "tags": []
   },
   "source": [
    "### Save Artists table to S3"
   ]
  },
  {
   "cell_type": "code",
   "execution_count": 21,
   "id": "91391da4-aa75-4430-992b-0078e2824975",
   "metadata": {
    "execution": {
     "iopub.execute_input": "2022-08-10T08:25:19.820798Z",
     "iopub.status.busy": "2022-08-10T08:25:19.819430Z",
     "iopub.status.idle": "2022-08-10T08:26:24.207379Z",
     "shell.execute_reply": "2022-08-10T08:26:24.206509Z",
     "shell.execute_reply.started": "2022-08-10T08:25:19.820761Z"
    },
    "tags": []
   },
   "outputs": [
    {
     "data": {
      "application/vnd.jupyter.widget-view+json": {
       "model_id": "1485fef1c5104cb5813a7bdba0e3a62d",
       "version_major": 2,
       "version_minor": 0
      },
      "text/plain": [
       "VBox()"
      ]
     },
     "metadata": {},
     "output_type": "display_data"
    },
    {
     "data": {
      "application/vnd.jupyter.widget-view+json": {
       "model_id": "",
       "version_major": 2,
       "version_minor": 0
      },
      "text/plain": [
       "FloatProgress(value=0.0, bar_style='info', description='Progress:', layout=Layout(height='25px', width='50%'),…"
      ]
     },
     "metadata": {},
     "output_type": "display_data"
    }
   ],
   "source": [
    "# create view\n",
    "artists_cols = ['artist_id', 'artist_name', 'artist_location','artist_latitude', 'artist_longitude']\n",
    "artists_table = song_df.select(artists_cols).distinct()\n",
    "\n",
    "# write\n",
    "artists_table.write.mode(\"overwrite\").parquet(path=s3_bucket + 'artists')"
   ]
  },
  {
   "cell_type": "markdown",
   "id": "a32843a6-358c-4720-ab73-814e150fafdd",
   "metadata": {},
   "source": [
    "### Log data"
   ]
  },
  {
   "cell_type": "code",
   "execution_count": 22,
   "id": "3e942626-f2db-4812-b717-24606ad391d1",
   "metadata": {
    "execution": {
     "iopub.execute_input": "2022-08-10T08:30:01.428815Z",
     "iopub.status.busy": "2022-08-10T08:30:01.404326Z",
     "iopub.status.idle": "2022-08-10T08:30:28.493952Z",
     "shell.execute_reply": "2022-08-10T08:30:28.493056Z",
     "shell.execute_reply.started": "2022-08-10T08:30:01.405137Z"
    }
   },
   "outputs": [
    {
     "data": {
      "application/vnd.jupyter.widget-view+json": {
       "model_id": "1c6053983aa540c1bf369244a721ef81",
       "version_major": 2,
       "version_minor": 0
      },
      "text/plain": [
       "VBox()"
      ]
     },
     "metadata": {},
     "output_type": "display_data"
    },
    {
     "data": {
      "application/vnd.jupyter.widget-view+json": {
       "model_id": "",
       "version_major": 2,
       "version_minor": 0
      },
      "text/plain": [
       "FloatProgress(value=0.0, bar_style='info', description='Progress:', layout=Layout(height='25px', width='50%'),…"
      ]
     },
     "metadata": {},
     "output_type": "display_data"
    }
   ],
   "source": [
    "# Just load log event at November-2018\n",
    "log_data_path = \"s3://udacity-dend/log_data/2018/11/*\"\n",
    "log_df = spark.read.json(log_data_path)"
   ]
  },
  {
   "cell_type": "code",
   "execution_count": 25,
   "id": "73952a03-bb30-4f7d-9058-708c0f0749e1",
   "metadata": {
    "execution": {
     "iopub.execute_input": "2022-08-10T08:31:41.655024Z",
     "iopub.status.busy": "2022-08-10T08:31:41.653285Z",
     "iopub.status.idle": "2022-08-10T08:31:41.974956Z",
     "shell.execute_reply": "2022-08-10T08:31:41.974056Z",
     "shell.execute_reply.started": "2022-08-10T08:31:41.654986Z"
    },
    "tags": []
   },
   "outputs": [
    {
     "data": {
      "application/vnd.jupyter.widget-view+json": {
       "model_id": "d889eeb49db044afb5fa9bca05f919d9",
       "version_major": 2,
       "version_minor": 0
      },
      "text/plain": [
       "VBox()"
      ]
     },
     "metadata": {},
     "output_type": "display_data"
    },
    {
     "data": {
      "application/vnd.jupyter.widget-view+json": {
       "model_id": "",
       "version_major": 2,
       "version_minor": 0
      },
      "text/plain": [
       "FloatProgress(value=0.0, bar_style='info', description='Progress:', layout=Layout(height='25px', width='50%'),…"
      ]
     },
     "metadata": {},
     "output_type": "display_data"
    },
    {
     "name": "stdout",
     "output_type": "stream",
     "text": [
      "root\n",
      " |-- artist: string (nullable = true)\n",
      " |-- auth: string (nullable = true)\n",
      " |-- firstName: string (nullable = true)\n",
      " |-- gender: string (nullable = true)\n",
      " |-- itemInSession: long (nullable = true)\n",
      " |-- lastName: string (nullable = true)\n",
      " |-- length: double (nullable = true)\n",
      " |-- level: string (nullable = true)\n",
      " |-- location: string (nullable = true)\n",
      " |-- method: string (nullable = true)\n",
      " |-- page: string (nullable = true)\n",
      " |-- registration: double (nullable = true)\n",
      " |-- sessionId: long (nullable = true)\n",
      " |-- song: string (nullable = true)\n",
      " |-- status: long (nullable = true)\n",
      " |-- ts: long (nullable = true)\n",
      " |-- userAgent: string (nullable = true)\n",
      " |-- userId: string (nullable = true)"
     ]
    }
   ],
   "source": [
    "log_df.printSchema()"
   ]
  },
  {
   "cell_type": "code",
   "execution_count": 27,
   "id": "febb4a90-f3fa-4f27-b549-b66870be3f9f",
   "metadata": {
    "execution": {
     "iopub.execute_input": "2022-08-10T08:32:14.909424Z",
     "iopub.status.busy": "2022-08-10T08:32:14.908642Z",
     "iopub.status.idle": "2022-08-10T08:32:15.944128Z",
     "shell.execute_reply": "2022-08-10T08:32:15.943238Z",
     "shell.execute_reply.started": "2022-08-10T08:32:14.909388Z"
    },
    "tags": []
   },
   "outputs": [
    {
     "data": {
      "application/vnd.jupyter.widget-view+json": {
       "model_id": "89221c40136a46f9b7ca3fe8bf4f4ced",
       "version_major": 2,
       "version_minor": 0
      },
      "text/plain": [
       "VBox()"
      ]
     },
     "metadata": {},
     "output_type": "display_data"
    },
    {
     "data": {
      "application/vnd.jupyter.widget-view+json": {
       "model_id": "",
       "version_major": 2,
       "version_minor": 0
      },
      "text/plain": [
       "FloatProgress(value=0.0, bar_style='info', description='Progress:', layout=Layout(height='25px', width='50%'),…"
      ]
     },
     "metadata": {},
     "output_type": "display_data"
    },
    {
     "name": "stdout",
     "output_type": "stream",
     "text": [
      "-RECORD 0--------------------------------------------------------------------------------------------------------------------------------------------------\n",
      " artist        | Harmonia                                                                                                                                  \n",
      " auth          | Logged In                                                                                                                                 \n",
      " firstName     | Ryan                                                                                                                                      \n",
      " gender        | M                                                                                                                                         \n",
      " itemInSession | 0                                                                                                                                         \n",
      " lastName      | Smith                                                                                                                                     \n",
      " length        | 655.77751                                                                                                                                 \n",
      " level         | free                                                                                                                                      \n",
      " location      | San Jose-Sunnyvale-Santa Clara, CA                                                                                                        \n",
      " method        | PUT                                                                                                                                       \n",
      " page          | NextSong                                                                                                                                  \n",
      " registration  | 1.541016707796E12                                                                                                                         \n",
      " sessionId     | 583                                                                                                                                       \n",
      " song          | Sehr kosmisch                                                                                                                             \n",
      " status        | 200                                                                                                                                       \n",
      " ts            | 1542241826796                                                                                                                             \n",
      " userAgent     | \"Mozilla/5.0 (X11; Linux x86_64) AppleWebKit/537.36 (KHTML, like Gecko) Ubuntu Chromium/36.0.1985.125 Chrome/36.0.1985.125 Safari/537.36\" \n",
      " userId        | 26                                                                                                                                        \n",
      "-RECORD 1--------------------------------------------------------------------------------------------------------------------------------------------------\n",
      " artist        | The Prodigy                                                                                                                               \n",
      " auth          | Logged In                                                                                                                                 \n",
      " firstName     | Ryan                                                                                                                                      \n",
      " gender        | M                                                                                                                                         \n",
      " itemInSession | 1                                                                                                                                         \n",
      " lastName      | Smith                                                                                                                                     \n",
      " length        | 260.07465                                                                                                                                 \n",
      " level         | free                                                                                                                                      \n",
      " location      | San Jose-Sunnyvale-Santa Clara, CA                                                                                                        \n",
      " method        | PUT                                                                                                                                       \n",
      " page          | NextSong                                                                                                                                  \n",
      " registration  | 1.541016707796E12                                                                                                                         \n",
      " sessionId     | 583                                                                                                                                       \n",
      " song          | The Big Gundown                                                                                                                           \n",
      " status        | 200                                                                                                                                       \n",
      " ts            | 1542242481796                                                                                                                             \n",
      " userAgent     | \"Mozilla/5.0 (X11; Linux x86_64) AppleWebKit/537.36 (KHTML, like Gecko) Ubuntu Chromium/36.0.1985.125 Chrome/36.0.1985.125 Safari/537.36\" \n",
      " userId        | 26                                                                                                                                        \n",
      "only showing top 2 rows"
     ]
    }
   ],
   "source": [
    "log_df.show(2, vertical=True, truncate=False)"
   ]
  },
  {
   "cell_type": "code",
   "execution_count": 32,
   "id": "8903416b-6a71-49cd-bab1-b42c768752af",
   "metadata": {
    "execution": {
     "iopub.execute_input": "2022-08-10T08:34:43.814269Z",
     "iopub.status.busy": "2022-08-10T08:34:43.813472Z",
     "iopub.status.idle": "2022-08-10T08:35:07.725495Z",
     "shell.execute_reply": "2022-08-10T08:35:07.724636Z",
     "shell.execute_reply.started": "2022-08-10T08:34:43.814233Z"
    },
    "tags": []
   },
   "outputs": [
    {
     "data": {
      "application/vnd.jupyter.widget-view+json": {
       "model_id": "a707baadebf64016bba9882c6f26fd18",
       "version_major": 2,
       "version_minor": 0
      },
      "text/plain": [
       "VBox()"
      ]
     },
     "metadata": {},
     "output_type": "display_data"
    },
    {
     "data": {
      "application/vnd.jupyter.widget-view+json": {
       "model_id": "",
       "version_major": 2,
       "version_minor": 0
      },
      "text/plain": [
       "FloatProgress(value=0.0, bar_style='info', description='Progress:', layout=Layout(height='25px', width='50%'),…"
      ]
     },
     "metadata": {},
     "output_type": "display_data"
    },
    {
     "name": "stdout",
     "output_type": "stream",
     "text": [
      "+----------------+-----+\n",
      "|            page|count|\n",
      "+----------------+-----+\n",
      "|        NextSong| 6820|\n",
      "|            Home|  806|\n",
      "|           Login|   92|\n",
      "|          Logout|   90|\n",
      "|       Downgrade|   60|\n",
      "|        Settings|   56|\n",
      "|            Help|   47|\n",
      "|           About|   36|\n",
      "|         Upgrade|   21|\n",
      "|   Save Settings|   10|\n",
      "|           Error|    9|\n",
      "|  Submit Upgrade|    8|\n",
      "|Submit Downgrade|    1|\n",
      "+----------------+-----+"
     ]
    }
   ],
   "source": [
    "# Count value in page column\n",
    "log_df.groupBy(\"page\").count().orderBy(F.desc_nulls_first(\"count\")).show()"
   ]
  },
  {
   "cell_type": "code",
   "execution_count": 33,
   "id": "b9f019d6-4007-42eb-82af-e0b7a88aef6c",
   "metadata": {
    "execution": {
     "iopub.execute_input": "2022-08-10T08:37:07.172483Z",
     "iopub.status.busy": "2022-08-10T08:37:07.171702Z",
     "iopub.status.idle": "2022-08-10T08:37:29.093320Z",
     "shell.execute_reply": "2022-08-10T08:37:29.092387Z",
     "shell.execute_reply.started": "2022-08-10T08:37:07.172446Z"
    }
   },
   "outputs": [
    {
     "data": {
      "application/vnd.jupyter.widget-view+json": {
       "model_id": "8cf10a6624dc49f4aecdf1c8449b8923",
       "version_major": 2,
       "version_minor": 0
      },
      "text/plain": [
       "VBox()"
      ]
     },
     "metadata": {},
     "output_type": "display_data"
    },
    {
     "data": {
      "application/vnd.jupyter.widget-view+json": {
       "model_id": "",
       "version_major": 2,
       "version_minor": 0
      },
      "text/plain": [
       "FloatProgress(value=0.0, bar_style='info', description='Progress:', layout=Layout(height='25px', width='50%'),…"
      ]
     },
     "metadata": {},
     "output_type": "display_data"
    },
    {
     "name": "stdout",
     "output_type": "stream",
     "text": [
      "6820"
     ]
    }
   ],
   "source": [
    "log_df.where(F.col(\"page\") == 'NextSong').count()"
   ]
  },
  {
   "cell_type": "code",
   "execution_count": 34,
   "id": "851bbff7-f606-4671-a6c4-f37fb4e36172",
   "metadata": {
    "execution": {
     "iopub.execute_input": "2022-08-10T08:41:47.565224Z",
     "iopub.status.busy": "2022-08-10T08:41:47.564386Z",
     "iopub.status.idle": "2022-08-10T08:41:48.103172Z",
     "shell.execute_reply": "2022-08-10T08:41:48.102272Z",
     "shell.execute_reply.started": "2022-08-10T08:41:47.565187Z"
    }
   },
   "outputs": [
    {
     "data": {
      "application/vnd.jupyter.widget-view+json": {
       "model_id": "873a46602cac4efea4d61ada725f4651",
       "version_major": 2,
       "version_minor": 0
      },
      "text/plain": [
       "VBox()"
      ]
     },
     "metadata": {},
     "output_type": "display_data"
    },
    {
     "data": {
      "application/vnd.jupyter.widget-view+json": {
       "model_id": "",
       "version_major": 2,
       "version_minor": 0
      },
      "text/plain": [
       "FloatProgress(value=0.0, bar_style='info', description='Progress:', layout=Layout(height='25px', width='50%'),…"
      ]
     },
     "metadata": {},
     "output_type": "display_data"
    }
   ],
   "source": [
    "# Just keep data of page = NextSong\n",
    "log_df = log_df.where(F.col(\"page\") == 'NextSong')"
   ]
  },
  {
   "cell_type": "markdown",
   "id": "4d80fea6-1adf-4efc-af3d-b3899bce61e5",
   "metadata": {},
   "source": [
    "### Write user table"
   ]
  },
  {
   "cell_type": "code",
   "execution_count": 35,
   "id": "a7d586cc-1559-4e9a-9c89-a7e2b08418d1",
   "metadata": {
    "execution": {
     "iopub.execute_input": "2022-08-10T08:43:35.837451Z",
     "iopub.status.busy": "2022-08-10T08:43:35.836631Z",
     "iopub.status.idle": "2022-08-10T08:44:09.862439Z",
     "shell.execute_reply": "2022-08-10T08:44:09.861577Z",
     "shell.execute_reply.started": "2022-08-10T08:43:35.837416Z"
    },
    "tags": []
   },
   "outputs": [
    {
     "data": {
      "application/vnd.jupyter.widget-view+json": {
       "model_id": "0c229cf72ec142d49417a8bff84c78d3",
       "version_major": 2,
       "version_minor": 0
      },
      "text/plain": [
       "VBox()"
      ]
     },
     "metadata": {},
     "output_type": "display_data"
    },
    {
     "data": {
      "application/vnd.jupyter.widget-view+json": {
       "model_id": "",
       "version_major": 2,
       "version_minor": 0
      },
      "text/plain": [
       "FloatProgress(value=0.0, bar_style='info', description='Progress:', layout=Layout(height='25px', width='50%'),…"
      ]
     },
     "metadata": {},
     "output_type": "display_data"
    }
   ],
   "source": [
    "users_cols = ['userId', 'firstName', 'lastName', 'gender', 'level']\n",
    "users_table = log_df.select(users_cols).distinct()\n",
    "#\n",
    "# Write\n",
    "users_table.write.mode(\"overwrite\").parquet(path=s3_bucket + 'users')"
   ]
  },
  {
   "cell_type": "markdown",
   "id": "f959761b-3f0b-4e71-80a6-5014ee345343",
   "metadata": {},
   "source": [
    "### Write time table"
   ]
  },
  {
   "cell_type": "code",
   "execution_count": 38,
   "id": "7fcb7a2a-b761-4e56-8b54-21a5b5e1dc0a",
   "metadata": {
    "execution": {
     "iopub.execute_input": "2022-08-10T08:48:50.785606Z",
     "iopub.status.busy": "2022-08-10T08:48:50.784647Z",
     "iopub.status.idle": "2022-08-10T08:48:51.829027Z",
     "shell.execute_reply": "2022-08-10T08:48:51.828106Z",
     "shell.execute_reply.started": "2022-08-10T08:48:50.785563Z"
    },
    "tags": []
   },
   "outputs": [
    {
     "data": {
      "application/vnd.jupyter.widget-view+json": {
       "model_id": "244919f0ade2467a800fde64d0301389",
       "version_major": 2,
       "version_minor": 0
      },
      "text/plain": [
       "VBox()"
      ]
     },
     "metadata": {},
     "output_type": "display_data"
    },
    {
     "data": {
      "application/vnd.jupyter.widget-view+json": {
       "model_id": "",
       "version_major": 2,
       "version_minor": 0
      },
      "text/plain": [
       "FloatProgress(value=0.0, bar_style='info', description='Progress:', layout=Layout(height='25px', width='50%'),…"
      ]
     },
     "metadata": {},
     "output_type": "display_data"
    },
    {
     "name": "stdout",
     "output_type": "stream",
     "text": [
      "+-----------------------+\n",
      "|datetime               |\n",
      "+-----------------------+\n",
      "|2018-11-15 00:30:26.796|\n",
      "+-----------------------+\n",
      "only showing top 1 row"
     ]
    }
   ],
   "source": [
    "log_df.select((F.col('ts')/1000).cast(\"timestamp\").alias('datetime')).show(1, truncate=False)"
   ]
  },
  {
   "cell_type": "code",
   "execution_count": 42,
   "id": "f0e93bc1-8f21-47d0-b5d1-a2dde761d80e",
   "metadata": {
    "execution": {
     "iopub.execute_input": "2022-08-10T08:56:10.457982Z",
     "iopub.status.busy": "2022-08-10T08:56:10.457203Z",
     "iopub.status.idle": "2022-08-10T08:56:11.463273Z",
     "shell.execute_reply": "2022-08-10T08:56:11.462397Z",
     "shell.execute_reply.started": "2022-08-10T08:56:10.457945Z"
    },
    "tags": []
   },
   "outputs": [
    {
     "data": {
      "application/vnd.jupyter.widget-view+json": {
       "model_id": "e52722f336a9476996658c7bbed8137a",
       "version_major": 2,
       "version_minor": 0
      },
      "text/plain": [
       "VBox()"
      ]
     },
     "metadata": {},
     "output_type": "display_data"
    },
    {
     "data": {
      "application/vnd.jupyter.widget-view+json": {
       "model_id": "",
       "version_major": 2,
       "version_minor": 0
      },
      "text/plain": [
       "FloatProgress(value=0.0, bar_style='info', description='Progress:', layout=Layout(height='25px', width='50%'),…"
      ]
     },
     "metadata": {},
     "output_type": "display_data"
    },
    {
     "name": "stdout",
     "output_type": "stream",
     "text": [
      "+-----------------------+\n",
      "|start_time             |\n",
      "+-----------------------+\n",
      "|2018-11-15 00:30:26.796|\n",
      "|2018-11-15 00:41:21.796|\n",
      "|2018-11-15 00:45:41.796|\n",
      "|2018-11-15 03:44:09.796|\n",
      "|2018-11-15 05:48:55.796|\n",
      "+-----------------------+\n",
      "only showing top 5 rows"
     ]
    }
   ],
   "source": [
    "log_df.withColumn('start_time', (log_df['ts']/1000).cast('timestamp')).select(\"start_time\").show(5, truncate=False)"
   ]
  },
  {
   "cell_type": "code",
   "execution_count": 45,
   "id": "dddde593-9469-4a97-9d98-a35d1888fc4f",
   "metadata": {
    "execution": {
     "iopub.execute_input": "2022-08-10T08:57:36.603504Z",
     "iopub.status.busy": "2022-08-10T08:57:36.602725Z",
     "iopub.status.idle": "2022-08-10T08:57:37.636412Z",
     "shell.execute_reply": "2022-08-10T08:57:37.635515Z",
     "shell.execute_reply.started": "2022-08-10T08:57:36.603469Z"
    },
    "tags": []
   },
   "outputs": [
    {
     "data": {
      "application/vnd.jupyter.widget-view+json": {
       "model_id": "96382c62d2fe4a008b74b15ae153d966",
       "version_major": 2,
       "version_minor": 0
      },
      "text/plain": [
       "VBox()"
      ]
     },
     "metadata": {},
     "output_type": "display_data"
    },
    {
     "data": {
      "application/vnd.jupyter.widget-view+json": {
       "model_id": "",
       "version_major": 2,
       "version_minor": 0
      },
      "text/plain": [
       "FloatProgress(value=0.0, bar_style='info', description='Progress:', layout=Layout(height='25px', width='50%'),…"
      ]
     },
     "metadata": {},
     "output_type": "display_data"
    },
    {
     "name": "stdout",
     "output_type": "stream",
     "text": [
      "+-----------------------+\n",
      "|start_time             |\n",
      "+-----------------------+\n",
      "|2018-11-15 00:30:26.796|\n",
      "|2018-11-15 00:41:21.796|\n",
      "|2018-11-15 00:45:41.796|\n",
      "|2018-11-15 03:44:09.796|\n",
      "|2018-11-15 05:48:55.796|\n",
      "+-----------------------+\n",
      "only showing top 5 rows"
     ]
    }
   ],
   "source": [
    "log_df.select((F.col('ts')/1000).cast(\"timestamp\").alias('start_time')).show(5, truncate=False)"
   ]
  },
  {
   "cell_type": "code",
   "execution_count": 50,
   "id": "7243c85c-b14a-468e-a0c5-d9879f7cc75b",
   "metadata": {
    "execution": {
     "iopub.execute_input": "2022-08-10T08:59:57.950280Z",
     "iopub.status.busy": "2022-08-10T08:59:57.949458Z",
     "iopub.status.idle": "2022-08-10T08:59:58.218501Z",
     "shell.execute_reply": "2022-08-10T08:59:58.217642Z",
     "shell.execute_reply.started": "2022-08-10T08:59:57.950244Z"
    },
    "tags": []
   },
   "outputs": [
    {
     "data": {
      "application/vnd.jupyter.widget-view+json": {
       "model_id": "0e0c8fb5c98a4763b16163d0425ecbaf",
       "version_major": 2,
       "version_minor": 0
      },
      "text/plain": [
       "VBox()"
      ]
     },
     "metadata": {},
     "output_type": "display_data"
    },
    {
     "data": {
      "application/vnd.jupyter.widget-view+json": {
       "model_id": "",
       "version_major": 2,
       "version_minor": 0
      },
      "text/plain": [
       "FloatProgress(value=0.0, bar_style='info', description='Progress:', layout=Layout(height='25px', width='50%'),…"
      ]
     },
     "metadata": {},
     "output_type": "display_data"
    }
   ],
   "source": [
    "# Create new column with datetime type\n",
    "log_df = log_df.withColumn(\"start_time\", (F.col('ts')/1000).cast(\"timestamp\").alias('start_time'))"
   ]
  },
  {
   "cell_type": "code",
   "execution_count": 54,
   "id": "cecec2e5-a816-4a4f-a0d7-9d0f6ce7e0eb",
   "metadata": {
    "execution": {
     "iopub.execute_input": "2022-08-10T09:03:20.519904Z",
     "iopub.status.busy": "2022-08-10T09:03:20.519091Z",
     "iopub.status.idle": "2022-08-10T09:03:20.784044Z",
     "shell.execute_reply": "2022-08-10T09:03:20.783108Z",
     "shell.execute_reply.started": "2022-08-10T09:03:20.519867Z"
    },
    "tags": []
   },
   "outputs": [
    {
     "data": {
      "application/vnd.jupyter.widget-view+json": {
       "model_id": "e65b6705e7cd427786c6bdaa86578ecd",
       "version_major": 2,
       "version_minor": 0
      },
      "text/plain": [
       "VBox()"
      ]
     },
     "metadata": {},
     "output_type": "display_data"
    },
    {
     "data": {
      "application/vnd.jupyter.widget-view+json": {
       "model_id": "",
       "version_major": 2,
       "version_minor": 0
      },
      "text/plain": [
       "FloatProgress(value=0.0, bar_style='info', description='Progress:', layout=Layout(height='25px', width='50%'),…"
      ]
     },
     "metadata": {},
     "output_type": "display_data"
    }
   ],
   "source": [
    "# Extract information in start_time column\n",
    "log_df = log_df.withColumn('weekday', F.date_format(F.col('start_time'), 'E'))\n",
    "log_df = log_df.withColumn('year', F.year(F.col('start_time')))\n",
    "log_df = log_df.withColumn('month', F.month(F.col('start_time')))\n",
    "log_df = log_df.withColumn('week', F.weekofyear(F.col('start_time')))\n",
    "log_df = log_df.withColumn('day', F.dayofmonth(F.col('start_time')))\n",
    "log_df = log_df.withColumn('hour', F.hour(F.col('start_time')))"
   ]
  },
  {
   "cell_type": "code",
   "execution_count": 55,
   "id": "28801a45-df13-4c3a-978b-b3d610e75576",
   "metadata": {
    "execution": {
     "iopub.execute_input": "2022-08-10T09:04:34.776482Z",
     "iopub.status.busy": "2022-08-10T09:04:34.775697Z",
     "iopub.status.idle": "2022-08-10T09:05:16.977373Z",
     "shell.execute_reply": "2022-08-10T09:05:16.976294Z",
     "shell.execute_reply.started": "2022-08-10T09:04:34.776445Z"
    }
   },
   "outputs": [
    {
     "data": {
      "application/vnd.jupyter.widget-view+json": {
       "model_id": "8a2a4a7ad76b4a2fa54d36681643585d",
       "version_major": 2,
       "version_minor": 0
      },
      "text/plain": [
       "VBox()"
      ]
     },
     "metadata": {},
     "output_type": "display_data"
    },
    {
     "data": {
      "application/vnd.jupyter.widget-view+json": {
       "model_id": "",
       "version_major": 2,
       "version_minor": 0
      },
      "text/plain": [
       "FloatProgress(value=0.0, bar_style='info', description='Progress:', layout=Layout(height='25px', width='50%'),…"
      ]
     },
     "metadata": {},
     "output_type": "display_data"
    }
   ],
   "source": [
    "time_cols = ['start_time', 'weekday', 'year', 'month', 'week', 'day', 'hour']\n",
    "time_table = log_df.select(time_cols).distinct()\n",
    "\n",
    "# Write\n",
    "time_table.write.mode('overwrite').partitionBy('year', 'month').parquet(path=s3_bucket + 'time')"
   ]
  },
  {
   "cell_type": "markdown",
   "id": "c69a4937-4e8f-405f-8fa3-b0a537ba5b67",
   "metadata": {},
   "source": [
    "### Write Songplays table"
   ]
  },
  {
   "cell_type": "code",
   "execution_count": 72,
   "id": "91b8a7e1-bfcf-4040-ace4-2d368a9b253a",
   "metadata": {
    "execution": {
     "iopub.execute_input": "2022-08-10T09:22:06.350719Z",
     "iopub.status.busy": "2022-08-10T09:22:06.349955Z",
     "iopub.status.idle": "2022-08-10T09:22:06.620879Z",
     "shell.execute_reply": "2022-08-10T09:22:06.619938Z",
     "shell.execute_reply.started": "2022-08-10T09:22:06.350683Z"
    },
    "tags": []
   },
   "outputs": [
    {
     "data": {
      "application/vnd.jupyter.widget-view+json": {
       "model_id": "6d02707de0864833957d9072cb8fb1bc",
       "version_major": 2,
       "version_minor": 0
      },
      "text/plain": [
       "VBox()"
      ]
     },
     "metadata": {},
     "output_type": "display_data"
    },
    {
     "data": {
      "application/vnd.jupyter.widget-view+json": {
       "model_id": "",
       "version_major": 2,
       "version_minor": 0
      },
      "text/plain": [
       "FloatProgress(value=0.0, bar_style='info', description='Progress:', layout=Layout(height='25px', width='50%'),…"
      ]
     },
     "metadata": {},
     "output_type": "display_data"
    },
    {
     "name": "stdout",
     "output_type": "stream",
     "text": [
      "['artist_id', 'artist_latitude', 'artist_location', 'artist_longitude', 'artist_name', 'duration', 'num_songs', 'song_id', 'title', 'year']"
     ]
    }
   ],
   "source": [
    "song_df.columns"
   ]
  },
  {
   "cell_type": "code",
   "execution_count": 77,
   "id": "541e9b73-850d-48cb-b799-0dad75e8db50",
   "metadata": {
    "execution": {
     "iopub.execute_input": "2022-08-10T09:26:17.424032Z",
     "iopub.status.busy": "2022-08-10T09:26:17.423270Z",
     "iopub.status.idle": "2022-08-10T09:26:17.684765Z",
     "shell.execute_reply": "2022-08-10T09:26:17.683825Z",
     "shell.execute_reply.started": "2022-08-10T09:26:17.423996Z"
    },
    "tags": []
   },
   "outputs": [
    {
     "data": {
      "application/vnd.jupyter.widget-view+json": {
       "model_id": "c1bfd91e98b44f3cab1d51a637c98481",
       "version_major": 2,
       "version_minor": 0
      },
      "text/plain": [
       "VBox()"
      ]
     },
     "metadata": {},
     "output_type": "display_data"
    },
    {
     "data": {
      "application/vnd.jupyter.widget-view+json": {
       "model_id": "",
       "version_major": 2,
       "version_minor": 0
      },
      "text/plain": [
       "FloatProgress(value=0.0, bar_style='info', description='Progress:', layout=Layout(height='25px', width='50%'),…"
      ]
     },
     "metadata": {},
     "output_type": "display_data"
    }
   ],
   "source": [
    "# Because song_df also has year column, we need to replace column year in song_df to another name before join two df\n",
    "new_log_df = log_df.join(song_df.withColumnRenamed('year', 'year_song'), (log_df.song == song_df.title)\\\n",
    "                                   & (log_df.artist == song_df.artist_name)\\\n",
    "                                   & (log_df.length == song_df.duration), \"left\")"
   ]
  },
  {
   "cell_type": "code",
   "execution_count": 79,
   "id": "748c1aae-ae5a-4c2a-97d3-755009d6e8df",
   "metadata": {
    "execution": {
     "iopub.execute_input": "2022-08-10T09:29:13.327145Z",
     "iopub.status.busy": "2022-08-10T09:29:13.326366Z",
     "iopub.status.idle": "2022-08-10T09:29:59.446130Z",
     "shell.execute_reply": "2022-08-10T09:29:59.445252Z",
     "shell.execute_reply.started": "2022-08-10T09:29:13.327108Z"
    },
    "tags": []
   },
   "outputs": [
    {
     "data": {
      "application/vnd.jupyter.widget-view+json": {
       "model_id": "b8508f86c7a94e8ab34254b8c4f154bc",
       "version_major": 2,
       "version_minor": 0
      },
      "text/plain": [
       "VBox()"
      ]
     },
     "metadata": {},
     "output_type": "display_data"
    },
    {
     "data": {
      "application/vnd.jupyter.widget-view+json": {
       "model_id": "",
       "version_major": 2,
       "version_minor": 0
      },
      "text/plain": [
       "FloatProgress(value=0.0, bar_style='info', description='Progress:', layout=Layout(height='25px', width='50%'),…"
      ]
     },
     "metadata": {},
     "output_type": "display_data"
    },
    {
     "name": "stdout",
     "output_type": "stream",
     "text": [
      "6820"
     ]
    }
   ],
   "source": [
    "# Check new dataframe of log is equal to origin\n",
    "new_log_df.count()"
   ]
  },
  {
   "cell_type": "code",
   "execution_count": 80,
   "id": "7f53d26f-682a-4547-bade-e40a51e99930",
   "metadata": {
    "execution": {
     "iopub.execute_input": "2022-08-10T09:32:57.459718Z",
     "iopub.status.busy": "2022-08-10T09:32:57.458934Z",
     "iopub.status.idle": "2022-08-10T09:32:57.774873Z",
     "shell.execute_reply": "2022-08-10T09:32:57.773965Z",
     "shell.execute_reply.started": "2022-08-10T09:32:57.459681Z"
    },
    "tags": []
   },
   "outputs": [
    {
     "data": {
      "application/vnd.jupyter.widget-view+json": {
       "model_id": "394f792d0181469e91e6ae56a2ae044a",
       "version_major": 2,
       "version_minor": 0
      },
      "text/plain": [
       "VBox()"
      ]
     },
     "metadata": {},
     "output_type": "display_data"
    },
    {
     "data": {
      "application/vnd.jupyter.widget-view+json": {
       "model_id": "",
       "version_major": 2,
       "version_minor": 0
      },
      "text/plain": [
       "FloatProgress(value=0.0, bar_style='info', description='Progress:', layout=Layout(height='25px', width='50%'),…"
      ]
     },
     "metadata": {},
     "output_type": "display_data"
    },
    {
     "name": "stdout",
     "output_type": "stream",
     "text": [
      "['artist', 'auth', 'firstName', 'gender', 'itemInSession', 'lastName', 'length', 'level', 'location', 'method', 'page', 'registration', 'sessionId', 'song', 'status', 'ts', 'userAgent', 'userId', 'start_time', 'weekday', 'year', 'month', 'week', 'day', 'hour', 'artist_id', 'artist_latitude', 'artist_location', 'artist_longitude', 'artist_name', 'duration', 'num_songs', 'song_id', 'title', 'year_song']"
     ]
    }
   ],
   "source": [
    "# Check list of column name in new dataframe\n",
    "new_log_df.columns"
   ]
  },
  {
   "cell_type": "code",
   "execution_count": 78,
   "id": "2531e2f6-2ca0-4838-af25-4ebb5a7ee151",
   "metadata": {
    "execution": {
     "iopub.execute_input": "2022-08-10T09:26:21.033446Z",
     "iopub.status.busy": "2022-08-10T09:26:21.032655Z",
     "iopub.status.idle": "2022-08-10T09:27:33.608290Z",
     "shell.execute_reply": "2022-08-10T09:27:33.607383Z",
     "shell.execute_reply.started": "2022-08-10T09:26:21.033409Z"
    },
    "tags": []
   },
   "outputs": [
    {
     "data": {
      "application/vnd.jupyter.widget-view+json": {
       "model_id": "6cd662ae36844da88584c81c35b445c9",
       "version_major": 2,
       "version_minor": 0
      },
      "text/plain": [
       "VBox()"
      ]
     },
     "metadata": {},
     "output_type": "display_data"
    },
    {
     "data": {
      "application/vnd.jupyter.widget-view+json": {
       "model_id": "",
       "version_major": 2,
       "version_minor": 0
      },
      "text/plain": [
       "FloatProgress(value=0.0, bar_style='info', description='Progress:', layout=Layout(height='25px', width='50%'),…"
      ]
     },
     "metadata": {},
     "output_type": "display_data"
    }
   ],
   "source": [
    "songplays_cols = ['start_time', 'userId', 'level', 'song_id', 'artist_id', 'sessionId','location','userAgent', 'year', 'month']\n",
    "songplays_table = new_log_df.select([F.col(x) for x in songplays_cols]).distinct()\n",
    "\n",
    "# Write\n",
    "songplays_table.write.mode(\"overwrite\").partitionBy('year', 'month').parquet(path=s3_bucket + 'songplays')"
   ]
  },
  {
   "cell_type": "code",
   "execution_count": null,
   "id": "6fbd7e9b-e2a5-4924-86fb-7a55783339cb",
   "metadata": {},
   "outputs": [],
   "source": []
  }
 ],
 "metadata": {
  "kernelspec": {
   "display_name": "PySpark",
   "language": "",
   "name": "pysparkkernel"
  },
  "language_info": {
   "codemirror_mode": {
    "name": "python",
    "version": 2
   },
   "mimetype": "text/x-python",
   "name": "pyspark",
   "pygments_lexer": "python2"
  }
 },
 "nbformat": 4,
 "nbformat_minor": 5
}
