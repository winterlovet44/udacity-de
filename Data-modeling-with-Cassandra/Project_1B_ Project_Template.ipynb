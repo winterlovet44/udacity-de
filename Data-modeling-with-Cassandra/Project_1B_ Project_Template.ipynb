{
 "cells": [
  {
   "cell_type": "markdown",
   "metadata": {},
   "source": [
    "# Part I. ETL Pipeline for Pre-Processing the Files"
   ]
  },
  {
   "cell_type": "markdown",
   "metadata": {},
   "source": [
    "## PLEASE RUN THE FOLLOWING CODE FOR PRE-PROCESSING THE FILES"
   ]
  },
  {
   "cell_type": "markdown",
   "metadata": {},
   "source": [
    "#### Import Python packages "
   ]
  },
  {
   "cell_type": "code",
   "execution_count": 1,
   "metadata": {},
   "outputs": [],
   "source": [
    "# Import Python packages \n",
    "import pandas as pd\n",
    "import cassandra\n",
    "import re\n",
    "import os\n",
    "import glob\n",
    "import numpy as np\n",
    "import json\n",
    "import csv\n",
    "from prettytable import PrettyTable"
   ]
  },
  {
   "cell_type": "markdown",
   "metadata": {},
   "source": [
    "#### Creating list of filepaths to process original event csv data files"
   ]
  },
  {
   "cell_type": "code",
   "execution_count": 2,
   "metadata": {},
   "outputs": [
    {
     "name": "stdout",
     "output_type": "stream",
     "text": [
      "/home/workspace\n"
     ]
    }
   ],
   "source": [
    "# checking your current working directory\n",
    "print(os.getcwd())\n",
    "\n",
    "# Get your current folder and subfolder event data\n",
    "filepath = os.getcwd() + '/event_data'\n",
    "\n",
    "# Create a for loop to create a list of files and collect each filepath\n",
    "for root, dirs, files in os.walk(filepath):\n",
    "    \n",
    "# join the file path and roots with the subdirectories using glob\n",
    "    file_path_list = glob.glob(os.path.join(root,'*'))\n",
    "    #print(file_path_list)"
   ]
  },
  {
   "cell_type": "markdown",
   "metadata": {},
   "source": [
    "#### Processing the files to create the data file csv that will be used for Apache Casssandra tables"
   ]
  },
  {
   "cell_type": "code",
   "execution_count": 3,
   "metadata": {},
   "outputs": [],
   "source": [
    "# initiating an empty list of rows that will be generated from each file\n",
    "full_data_rows_list = [] \n",
    "    \n",
    "# for every filepath in the file path list \n",
    "for f in file_path_list:\n",
    "\n",
    "# reading csv file \n",
    "    with open(f, 'r', encoding = 'utf8', newline='') as csvfile: \n",
    "        # creating a csv reader object \n",
    "        csvreader = csv.reader(csvfile) \n",
    "        next(csvreader)\n",
    "        \n",
    " # extracting each data row one by one and append it        \n",
    "        for line in csvreader:\n",
    "            #print(line)\n",
    "            full_data_rows_list.append(line) \n",
    "            \n",
    "# uncomment the code below if you would like to get total number of rows \n",
    "#print(len(full_data_rows_list))\n",
    "# uncomment the code below if you would like to check to see what the list of event data rows will look like\n",
    "#print(full_data_rows_list)\n",
    "\n",
    "# creating a smaller event data csv file called event_datafile_full csv that will be used to insert data into the \\\n",
    "# Apache Cassandra tables\n",
    "csv.register_dialect('myDialect', quoting=csv.QUOTE_ALL, skipinitialspace=True)\n",
    "\n",
    "with open('event_datafile_new.csv', 'w', encoding = 'utf8', newline='') as f:\n",
    "    writer = csv.writer(f, dialect='myDialect')\n",
    "    writer.writerow(['artist','firstName','gender','itemInSession','lastName','length',\\\n",
    "                'level','location','sessionId','song','userId'])\n",
    "    for row in full_data_rows_list:\n",
    "        if (row[0] == ''):\n",
    "            continue\n",
    "        writer.writerow((row[0], row[2], row[3], row[4], row[5], row[6], row[7], row[8], row[12], row[13], row[16]))\n"
   ]
  },
  {
   "cell_type": "code",
   "execution_count": 4,
   "metadata": {},
   "outputs": [
    {
     "name": "stdout",
     "output_type": "stream",
     "text": [
      "6821\n"
     ]
    }
   ],
   "source": [
    "# check the number of rows in your csv file\n",
    "with open('event_datafile_new.csv', 'r', encoding = 'utf8') as f:\n",
    "    print(sum(1 for line in f))"
   ]
  },
  {
   "cell_type": "code",
   "execution_count": 5,
   "metadata": {},
   "outputs": [
    {
     "name": "stdout",
     "output_type": "stream",
     "text": [
      "event_data  event_datafile_new.csv  images  Project_1B_ Project_Template.ipynb\r\n"
     ]
    }
   ],
   "source": [
    "!ls"
   ]
  },
  {
   "cell_type": "markdown",
   "metadata": {},
   "source": [
    "# Part II. Complete the Apache Cassandra coding portion of your project. \n",
    "\n",
    "## Now you are ready to work with the CSV file titled <font color=red>event_datafile_new.csv</font>, located within the Workspace directory.  The event_datafile_new.csv contains the following columns: \n",
    "- artist \n",
    "- firstName of user\n",
    "- gender of user\n",
    "- item number in session\n",
    "- last name of user\n",
    "- length of the song\n",
    "- level (paid or free song)\n",
    "- location of the user\n",
    "- sessionId\n",
    "- song title\n",
    "- userId\n",
    "\n",
    "The image below is a screenshot of what the denormalized data should appear like in the <font color=red>**event_datafile_new.csv**</font> after the code above is run:<br>\n",
    "\n",
    "<img src=\"images/image_event_datafile_new.jpg\">"
   ]
  },
  {
   "cell_type": "markdown",
   "metadata": {},
   "source": [
    "## Begin writing your Apache Cassandra code in the cells below"
   ]
  },
  {
   "cell_type": "markdown",
   "metadata": {},
   "source": [
    "#### Creating a Cluster"
   ]
  },
  {
   "cell_type": "code",
   "execution_count": 6,
   "metadata": {},
   "outputs": [],
   "source": [
    "from cassandra.cluster import Cluster"
   ]
  },
  {
   "cell_type": "code",
   "execution_count": 7,
   "metadata": {},
   "outputs": [],
   "source": [
    "# This should make a connection to a Cassandra instance your local machine \n",
    "# (127.0.0.1)\n",
    "\n",
    "\n",
    "cluster = Cluster(['localhost'])\n",
    "\n",
    "# To establish connection and begin executing queries, need a session\n",
    "session = cluster.connect()"
   ]
  },
  {
   "cell_type": "markdown",
   "metadata": {},
   "source": [
    "#### Create Keyspace"
   ]
  },
  {
   "cell_type": "code",
   "execution_count": 8,
   "metadata": {},
   "outputs": [],
   "source": [
    "try:\n",
    "    session.execute(\"\"\"\n",
    "    CREATE KEYSPACE IF NOT EXISTS projects2 \n",
    "    WITH REPLICATION = \n",
    "    { 'class' : 'SimpleStrategy', 'replication_factor' : 1 }\"\"\"\n",
    ")\n",
    "\n",
    "except Exception as e:\n",
    "    print(e)"
   ]
  },
  {
   "cell_type": "markdown",
   "metadata": {},
   "source": [
    "#### Set Keyspace"
   ]
  },
  {
   "cell_type": "code",
   "execution_count": 9,
   "metadata": {},
   "outputs": [],
   "source": [
    "try:\n",
    "    session.set_keyspace('projects2')\n",
    "except Exception as e:\n",
    "    print(e)"
   ]
  },
  {
   "cell_type": "markdown",
   "metadata": {},
   "source": [
    "### Now we need to create tables to run the following queries. Remember, with Apache Cassandra you model the database tables on the queries you want to run."
   ]
  },
  {
   "cell_type": "markdown",
   "metadata": {},
   "source": [
    "## Create queries to ask the following three questions of the data\n",
    "\n",
    "### 1. Give me the artist, song title and song's length in the music app history that was heard during  sessionId = 338, and itemInSession  = 4\n",
    "\n",
    "\n",
    "### 2. Give me only the following: name of artist, song (sorted by itemInSession) and user (first and last name) for userid = 10, sessionid = 182\n",
    "    \n",
    "\n",
    "### 3. Give me every user name (first and last) in my music app history who listened to the song 'All Hands Against His Own'\n",
    "\n",
    "\n"
   ]
  },
  {
   "cell_type": "code",
   "execution_count": 10,
   "metadata": {},
   "outputs": [],
   "source": [
    "QUERY_TEMPLATE = \"CREATE TABLE IF NOT EXISTS {} ({}, PRIMARY KEY({}))\"\n",
    "SELECT = \"SELECT {} FROM {} WHERE {}\""
   ]
  },
  {
   "cell_type": "markdown",
   "metadata": {},
   "source": [
    "### 1. Give me the artist, song title and song's length in the music app history that was heard during  sessionId = 338, and itemInSession  = 4\n",
    "\n",
    "The answer:\n",
    "\n",
    "```bash\n",
    "+-----------+---------------------------------+\n",
    "|   artist  |               song              |\n",
    "+-----------+---------------------------------+\n",
    "| Faithless | Music Matters (Mark Knight Dub) |\n",
    "+-----------+---------------------------------+\n",
    "```"
   ]
  },
  {
   "cell_type": "markdown",
   "metadata": {},
   "source": [
    "#### Varibale for question 1"
   ]
  },
  {
   "cell_type": "code",
   "execution_count": 11,
   "metadata": {},
   "outputs": [],
   "source": [
    "table_name = \"songs_info_by_session\"\n",
    "# List of columns in table song as a tuple\n",
    "cols_1 = ('sessionId','itemInSession','artist','length','song')\n",
    "col_type = ('int', 'int', 'text', 'float', 'text')\n",
    "columns = \",\".join([\"{} {}\".format(x,y) for x,y in zip(cols_1, col_type)])\n",
    "primary_key = \"sessionId, itemInSession\""
   ]
  },
  {
   "cell_type": "code",
   "execution_count": 12,
   "metadata": {},
   "outputs": [
    {
     "name": "stdout",
     "output_type": "stream",
     "text": [
      "CREATE TABLE IF NOT EXISTS songs_info_by_session (sessionId int,itemInSession int,artist text,length float,song text, PRIMARY KEY(sessionId, itemInSession))\n"
     ]
    }
   ],
   "source": [
    "query = QUERY_TEMPLATE.format(table_name, columns, primary_key)\n",
    "print(query)\n",
    "try:\n",
    "    session.execute(query)\n",
    "except Exception as e:\n",
    "    print(e)"
   ]
  },
  {
   "cell_type": "code",
   "execution_count": 13,
   "metadata": {},
   "outputs": [],
   "source": [
    "def insert_query(*list_cols, table='songs'):\n",
    "    \"\"\"Generate insert query with specify table and columns.\n",
    "    \n",
    "    Parameter\n",
    "    ---------\n",
    "    list_cols: args\n",
    "        List of columns will insert values\n",
    "    table: str\n",
    "        Name of table will be inserted\n",
    "    \n",
    "    Return:\n",
    "        SQL query as a string\n",
    "    \"\"\"\n",
    "    c = \"{}\".format(\",\".join(x for x in list_cols))\n",
    "    return f\"INSERT INTO {table} ({c})\" + \" VALUES ({})\".format(\",\".join([\"%s\"]*len(list_cols)))"
   ]
  },
  {
   "cell_type": "code",
   "execution_count": 14,
   "metadata": {
    "scrolled": true
   },
   "outputs": [],
   "source": [
    "# Get header of csv file\n",
    "with open('event_datafile_new.csv', encoding = 'utf8') as f:\n",
    "    csvreader = csv.reader(f)\n",
    "    header = next(csvreader)\n",
    "    f.close()\n",
    "header_idx = {v:k for k,v in enumerate(header)}"
   ]
  },
  {
   "cell_type": "code",
   "execution_count": 15,
   "metadata": {},
   "outputs": [
    {
     "data": {
      "text/plain": [
       "'INSERT INTO songs_info_by_session (sessionId,itemInSession,artist,length,song) VALUES (%s,%s,%s,%s,%s)'"
      ]
     },
     "execution_count": 15,
     "metadata": {},
     "output_type": "execute_result"
    }
   ],
   "source": [
    "# Check query\n",
    "insert_query(*cols_1, table=table_name)"
   ]
  },
  {
   "cell_type": "code",
   "execution_count": 16,
   "metadata": {},
   "outputs": [
    {
     "name": "stdout",
     "output_type": "stream",
     "text": [
      "sessionId: 8\n",
      "itemInSession: 3\n",
      "artist: 0\n",
      "length: 5\n",
      "song: 9\n"
     ]
    }
   ],
   "source": [
    "for i in cols_1:\n",
    "    print(f\"{i}: {header_idx[i]}\")"
   ]
  },
  {
   "cell_type": "code",
   "execution_count": 17,
   "metadata": {
    "scrolled": false
   },
   "outputs": [],
   "source": [
    "file = 'event_datafile_new.csv'\n",
    "query = insert_query(*cols_1, table=table_name)\n",
    "\n",
    "with open(file, encoding = 'utf8') as f:\n",
    "    csvreader = csv.reader(f)\n",
    "    next(csvreader) # skip header\n",
    "    for line in csvreader:\n",
    "        session.execute(query, (int(line[8]),int(line[3]),line[0],float(line[5]),line[9]))"
   ]
  },
  {
   "cell_type": "markdown",
   "metadata": {},
   "source": [
    "#### Do a SELECT to verify that the data have been inserted into each table"
   ]
  },
  {
   "cell_type": "code",
   "execution_count": 18,
   "metadata": {},
   "outputs": [],
   "source": [
    "def gen_result(res):\n",
    "    \"\"\"Generate result from cassandra.\n",
    "    \n",
    "    Parameter\n",
    "    ---------\n",
    "    res: cassandra.cluster.ResultSet\n",
    "        Result of cassandra query\n",
    "        \n",
    "    Return\n",
    "    SQL result as a table\n",
    "    \"\"\"\n",
    "    table = PrettyTable()\n",
    "    table.field_names = res.column_names\n",
    "    for row in res:\n",
    "        table.add_row(row)\n",
    "    return table"
   ]
  },
  {
   "cell_type": "code",
   "execution_count": 19,
   "metadata": {
    "scrolled": true
   },
   "outputs": [],
   "source": [
    "query = SELECT.format(\"artist, song\", table_name, \"sessionId = 338 AND iteminsession = 4\")\n",
    "try:\n",
    "    results = session.execute(query)\n",
    "except Exception as error:\n",
    "    print(error)"
   ]
  },
  {
   "cell_type": "code",
   "execution_count": 20,
   "metadata": {},
   "outputs": [
    {
     "name": "stdout",
     "output_type": "stream",
     "text": [
      "the artist, song title and song's length in the music app history that was heard during sessionId = 338, and itemInSession = 4\n",
      "+-----------+---------------------------------+\n",
      "|   artist  |               song              |\n",
      "+-----------+---------------------------------+\n",
      "| Faithless | Music Matters (Mark Knight Dub) |\n",
      "+-----------+---------------------------------+\n"
     ]
    }
   ],
   "source": [
    "print(\"the artist, song title and song's length in the music app history that was heard during \\\n",
    "sessionId = 338, and itemInSession = 4\")\n",
    "print(gen_result(results))"
   ]
  },
  {
   "cell_type": "markdown",
   "metadata": {},
   "source": [
    "### 2. Give me only the following: name of artist, song (sorted by itemInSession) and user (first and last name) for userid = 10, sessionid = 182\n",
    "\n",
    "The answer\n",
    "\n",
    "```bash\n",
    "+-------------------+------------------------------------------------------+-----------+----------+\n",
    "|       artist      |                         song                         | firstname | lastname |\n",
    "+-------------------+------------------------------------------------------+-----------+----------+\n",
    "|  Down To The Bone |                  Keep On Keepin' On                  |   Sylvie  |   Cruz   |\n",
    "|    Three Drives   |                     Greece 2000                      |   Sylvie  |   Cruz   |\n",
    "| Sebastien Tellier |                      Kilometer                       |   Sylvie  |   Cruz   |\n",
    "|   Lonnie Gordon   | Catch You Baby (Steve Pitron & Max Sanna Radio Edit) |   Sylvie  |   Cruz   |\n",
    "+-------------------+------------------------------------------------------+-----------+----------+\n",
    "```"
   ]
  },
  {
   "cell_type": "code",
   "execution_count": 21,
   "metadata": {},
   "outputs": [],
   "source": [
    "table2 = \"songs_info_by_user\"\n",
    "# List of columns in table song as a tuple\n",
    "cols_2 = ('userId','sessionId','itemInSession','artist','firstName','lastName', 'song')\n",
    "type_2 = ('int', 'int', 'int', 'text', 'text', 'text', 'text')\n",
    "columns2 = \",\".join([\"{} {}\".format(x,y) for x,y in zip(cols_2, type_2)])\n",
    "primary_key2 = \"(userId, sessionId), itemInSession\""
   ]
  },
  {
   "cell_type": "code",
   "execution_count": 22,
   "metadata": {},
   "outputs": [
    {
     "name": "stdout",
     "output_type": "stream",
     "text": [
      "CREATE TABLE IF NOT EXISTS songs_info_by_user (userId int,sessionId int,itemInSession int,artist text,firstName text,lastName text,song text, PRIMARY KEY((userId, sessionId), itemInSession)) WITH CLUSTERING ORDER BY (itemInSession ASC);\n"
     ]
    }
   ],
   "source": [
    "query = QUERY_TEMPLATE.format(table2, columns2, primary_key2)\n",
    "query = query + \"\"\" WITH CLUSTERING ORDER BY (itemInSession ASC);\"\"\"\n",
    "print(query)\n",
    "try:\n",
    "    session.execute(query)\n",
    "except Exception as e:\n",
    "    print(e)"
   ]
  },
  {
   "cell_type": "code",
   "execution_count": 23,
   "metadata": {},
   "outputs": [
    {
     "data": {
      "text/plain": [
       "'INSERT INTO songs_info_by_user (userId,sessionId,itemInSession,artist,firstName,lastName,song) VALUES (%s,%s,%s,%s,%s,%s,%s)'"
      ]
     },
     "execution_count": 23,
     "metadata": {},
     "output_type": "execute_result"
    }
   ],
   "source": [
    "insert_query(*cols_2, table=table2)"
   ]
  },
  {
   "cell_type": "code",
   "execution_count": 24,
   "metadata": {},
   "outputs": [
    {
     "name": "stdout",
     "output_type": "stream",
     "text": [
      "userId: 10\n",
      "sessionId: 8\n",
      "itemInSession: 3\n",
      "artist: 0\n",
      "firstName: 1\n",
      "lastName: 4\n",
      "song: 9\n"
     ]
    }
   ],
   "source": [
    "for i in cols_2:\n",
    "    print(f\"{i}: {header_idx[i]}\")"
   ]
  },
  {
   "cell_type": "code",
   "execution_count": 25,
   "metadata": {},
   "outputs": [],
   "source": [
    "query = insert_query(*cols_2, table=table2)\n",
    "with open(file, encoding = 'utf8') as f:\n",
    "    csvreader = csv.reader(f)\n",
    "    next(csvreader) # skip header\n",
    "    for line in csvreader:\n",
    "        session.execute(query, (int(line[10]),int(line[8]),int(line[3]),line[0],line[1],line[4],line[9]))"
   ]
  },
  {
   "cell_type": "code",
   "execution_count": 26,
   "metadata": {},
   "outputs": [],
   "source": [
    "query = f\"\"\"\n",
    "    SELECT artist, song, firstName, lastName \n",
    "    FROM {table2} \n",
    "    WHERE userId = 10 AND sessionId = 182\n",
    "\"\"\"\n",
    "try:\n",
    "    results = session.execute(query)\n",
    "except Exception as error:\n",
    "    print(error)"
   ]
  },
  {
   "cell_type": "code",
   "execution_count": 27,
   "metadata": {
    "scrolled": true
   },
   "outputs": [
    {
     "name": "stdout",
     "output_type": "stream",
     "text": [
      "+-------------------+------------------------------------------------------+-----------+----------+\n",
      "|       artist      |                         song                         | firstname | lastname |\n",
      "+-------------------+------------------------------------------------------+-----------+----------+\n",
      "|  Down To The Bone |                  Keep On Keepin' On                  |   Sylvie  |   Cruz   |\n",
      "|    Three Drives   |                     Greece 2000                      |   Sylvie  |   Cruz   |\n",
      "| Sebastien Tellier |                      Kilometer                       |   Sylvie  |   Cruz   |\n",
      "|   Lonnie Gordon   | Catch You Baby (Steve Pitron & Max Sanna Radio Edit) |   Sylvie  |   Cruz   |\n",
      "+-------------------+------------------------------------------------------+-----------+----------+\n"
     ]
    }
   ],
   "source": [
    "print(gen_result(results))"
   ]
  },
  {
   "cell_type": "markdown",
   "metadata": {},
   "source": [
    "### 3. Give me every user name (first and last) in my music app history who listened to the song 'All Hands Against His Own'\n",
    "\n",
    "The answer:\n",
    "\n",
    "```bash\n",
    "+------------+----------+\n",
    "| firstname  | lastname |\n",
    "+------------+----------+\n",
    "|    Sara    | Johnson  |\n",
    "|   Tegan    |  Levine  |\n",
    "| Jacqueline |  Lynch   |\n",
    "+------------+----------+\n",
    "```"
   ]
  },
  {
   "cell_type": "code",
   "execution_count": 28,
   "metadata": {},
   "outputs": [],
   "source": [
    "table3 = \"user_info_by_song\"\n",
    "# List of columns in table song as a tuple\n",
    "cols_3 = ('userId','song','firstName','lastName')\n",
    "type_3 = ('int', 'text', 'text', 'text')\n",
    "columns3 = \",\".join([\"{} {}\".format(x,y) for x,y in zip(cols_3, type_3)])\n",
    "primary_key3 = \"userId, song\""
   ]
  },
  {
   "cell_type": "code",
   "execution_count": 29,
   "metadata": {},
   "outputs": [
    {
     "name": "stdout",
     "output_type": "stream",
     "text": [
      "CREATE TABLE IF NOT EXISTS user_info_by_song (userId int,song text,firstName text,lastName text, PRIMARY KEY(userId, song))\n"
     ]
    }
   ],
   "source": [
    "query = QUERY_TEMPLATE.format(table3, columns3, primary_key3)\n",
    "print(query)\n",
    "\n",
    "try:\n",
    "    session.execute(query)\n",
    "except Exception as e:\n",
    "    print(e)\n",
    "\n",
    "                    "
   ]
  },
  {
   "cell_type": "code",
   "execution_count": 30,
   "metadata": {},
   "outputs": [
    {
     "data": {
      "text/plain": [
       "'INSERT INTO user_info_by_song (userId,song,firstName,lastName) VALUES (%s,%s,%s,%s)'"
      ]
     },
     "execution_count": 30,
     "metadata": {},
     "output_type": "execute_result"
    }
   ],
   "source": [
    "insert_query(*cols_3, table=table3)"
   ]
  },
  {
   "cell_type": "code",
   "execution_count": 31,
   "metadata": {},
   "outputs": [
    {
     "name": "stdout",
     "output_type": "stream",
     "text": [
      "userId: 10\n",
      "song: 9\n",
      "firstName: 1\n",
      "lastName: 4\n"
     ]
    }
   ],
   "source": [
    "for i in cols_3:\n",
    "    print(f\"{i}: {header_idx[i]}\")"
   ]
  },
  {
   "cell_type": "code",
   "execution_count": 32,
   "metadata": {},
   "outputs": [],
   "source": [
    "# file = 'event_datafile_new.csv'\n",
    "query = insert_query(*cols_3, table=table3)\n",
    "with open(file, encoding = 'utf8') as f:\n",
    "    csvreader = csv.reader(f)\n",
    "    next(csvreader) # skip header\n",
    "    for line in csvreader:\n",
    "        session.execute(query, (int(line[10]),line[9],line[1],line[4]))"
   ]
  },
  {
   "cell_type": "code",
   "execution_count": 33,
   "metadata": {},
   "outputs": [],
   "source": [
    "query = f\"\"\"\n",
    "    SELECT firstName, lastName \n",
    "    FROM {table3} \n",
    "    WHERE song = 'All Hands Against His Own'\n",
    "    ALLOW FILTERING\n",
    "\"\"\"\n",
    "try:\n",
    "    results = session.execute(query)\n",
    "except Exception as error:\n",
    "    print(error)"
   ]
  },
  {
   "cell_type": "code",
   "execution_count": 34,
   "metadata": {},
   "outputs": [
    {
     "name": "stdout",
     "output_type": "stream",
     "text": [
      "+------------+----------+\n",
      "| firstname  | lastname |\n",
      "+------------+----------+\n",
      "|    Sara    | Johnson  |\n",
      "|   Tegan    |  Levine  |\n",
      "| Jacqueline |  Lynch   |\n",
      "+------------+----------+\n"
     ]
    }
   ],
   "source": [
    "print(gen_result(results))"
   ]
  },
  {
   "cell_type": "markdown",
   "metadata": {},
   "source": [
    "### Drop the tables before closing out the sessions"
   ]
  },
  {
   "cell_type": "code",
   "execution_count": 35,
   "metadata": {},
   "outputs": [],
   "source": [
    "try:\n",
    "    session.execute(\"DROP TABLE IF EXISTS songs\")\n",
    "    session.execute(\"DROP TABLE IF EXISTS users\")\n",
    "    session.execute(\"DROP TABLE IF EXISTS history\")\n",
    "except Exception as error:\n",
    "    print(error)"
   ]
  },
  {
   "cell_type": "markdown",
   "metadata": {},
   "source": [
    "### Close the session and cluster connection¶"
   ]
  },
  {
   "cell_type": "code",
   "execution_count": 36,
   "metadata": {},
   "outputs": [],
   "source": [
    "session.shutdown()\n",
    "cluster.shutdown()"
   ]
  },
  {
   "cell_type": "code",
   "execution_count": null,
   "metadata": {},
   "outputs": [],
   "source": []
  },
  {
   "cell_type": "code",
   "execution_count": null,
   "metadata": {},
   "outputs": [],
   "source": []
  }
 ],
 "metadata": {
  "kernelspec": {
   "display_name": "Python 3",
   "language": "python",
   "name": "python3"
  },
  "language_info": {
   "codemirror_mode": {
    "name": "ipython",
    "version": 3
   },
   "file_extension": ".py",
   "mimetype": "text/x-python",
   "name": "python",
   "nbconvert_exporter": "python",
   "pygments_lexer": "ipython3",
   "version": "3.6.3"
  }
 },
 "nbformat": 4,
 "nbformat_minor": 2
}
